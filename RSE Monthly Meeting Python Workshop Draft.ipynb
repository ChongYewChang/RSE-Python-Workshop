{
 "cells": [
  {
   "cell_type": "markdown",
   "metadata": {
    "slideshow": {
     "slide_type": "slide"
    }
   },
   "source": [
    "![title](img/realskills.jpg)\n",
    "\n",
    "# Introduction to Programming \n",
    "\n",
    "\n",
    "<img src = \"https://static.makeuseof.com/wp-content/uploads/2018/03/python-faq-670x335.jpg\"></img>"
   ]
  },
  {
   "cell_type": "markdown",
   "metadata": {
    "slideshow": {
     "slide_type": "slide"
    }
   },
   "source": [
    "# Workshop overview\n",
    "\n",
    "## Python setup - 5 minutes\n",
    "1. What is programming?\n",
    "1. What is Python?\n",
    "1. Jupyter Notebook\n",
    "\n",
    "## Getting started - 1 hour 45 minutes\n",
    "1. Your first Python Program - \"Hello, World!\"\n",
    "1. Data structures\n",
    "1. Exercise 1 - Simple Arithmetic \n",
    "1. Comparison operators\n",
    "1. Conditions\n",
    "1. Exercise 2 - Fizzbuzz\n",
    "1. Loops\n",
    "1. Exercise 3 - Frequency Count\n",
    "1. Using Python Modules\n",
    "1. Challenge - Timetable maker\n",
    "1. Extra resources "
   ]
  },
  {
   "cell_type": "markdown",
   "metadata": {
    "slideshow": {
     "slide_type": "slide"
    }
   },
   "source": [
    "# Notes\n",
    "\n",
    "## What's new?\n",
    "- Moved from terminal & sublime to jupyter notebook\n",
    "     - Allows you to create a unified notebook with images and notes\n",
    "     - IPython integration + Intellisense are good for beginners\n",
    "     - Can we used for future reference\n",
    "     - Live coding in presentation\n",
    "     - Streamlined and very user friendly with low learning curve\n",
    "\n",
    "- Teaching techniques\n",
    "    - Content will be more hands on and less writing on slides\n",
    "    - Exercises will be harder and facilitators will be needed to sit down with noobs\n",
    "    - Useful challenge question  \n",
    "    - Red/ Green sticky notes\n",
    "\n",
    "\n",
    "## Challenges\n",
    "- More to be discussed\n",
    "    - Creating a safe and supportive learning environment\n",
    "    - Not practical to teach much in 2 hours?\n",
    "    - Explaining concepts with the correct modality\n",
    "\n",
    "## Coming next\n",
    "- Youtube tutorial and setup .bat, .sh scripts\n",
    "- Complete student notebook\n"
   ]
  },
  {
   "cell_type": "markdown",
   "metadata": {
    "slideshow": {
     "slide_type": "slide"
    }
   },
   "source": [
    "# Your First Python Program\n",
    "\n",
    "The print() function prints the specified message to the screen, or other standard output device."
   ]
  },
  {
   "cell_type": "code",
   "execution_count": 58,
   "metadata": {},
   "outputs": [
    {
     "name": "stdout",
     "output_type": "stream",
     "text": [
      "Hello World!\n",
      "hello world\n"
     ]
    }
   ],
   "source": [
    "# print your name? \n",
    "print(\"Hello World!\")\n",
    "a = \"hello world\"\n",
    "print(a)\n",
    "\n",
    "# youtube -> q&A?"
   ]
  },
  {
   "cell_type": "markdown",
   "metadata": {
    "slideshow": {
     "slide_type": "slide"
    }
   },
   "source": [
    "# Python Object and Data Structure Basics\n",
    "\n",
    "- Numbers\n",
    "- Variables\n",
    "- Strings\n",
    "- Lists\n",
    "- Dictionary"
   ]
  },
  {
   "cell_type": "markdown",
   "metadata": {
    "slideshow": {
     "slide_type": "slide"
    }
   },
   "source": [
    "# Numbers\n",
    "\n",
    "Python has various \"types\" of numbers (numeric literals). We'll mainly focus on integers and floating point numbers."
   ]
  },
  {
   "cell_type": "code",
   "execution_count": 70,
   "metadata": {},
   "outputs": [
    {
     "data": {
      "text/plain": [
       "17"
      ]
     },
     "execution_count": 70,
     "metadata": {},
     "output_type": "execute_result"
    }
   ],
   "source": [
    "# Addition\n",
    "2+1\n",
    "7+10"
   ]
  },
  {
   "cell_type": "code",
   "execution_count": 60,
   "metadata": {},
   "outputs": [
    {
     "data": {
      "text/plain": [
       "1"
      ]
     },
     "execution_count": 60,
     "metadata": {},
     "output_type": "execute_result"
    }
   ],
   "source": [
    "# Subtraction\n",
    "2-1"
   ]
  },
  {
   "cell_type": "code",
   "execution_count": 61,
   "metadata": {},
   "outputs": [
    {
     "data": {
      "text/plain": [
       "4"
      ]
     },
     "execution_count": 61,
     "metadata": {},
     "output_type": "execute_result"
    }
   ],
   "source": [
    "# Multiplication\n",
    "2*2"
   ]
  },
  {
   "cell_type": "code",
   "execution_count": 62,
   "metadata": {},
   "outputs": [
    {
     "data": {
      "text/plain": [
       "1.5"
      ]
     },
     "execution_count": 62,
     "metadata": {},
     "output_type": "execute_result"
    }
   ],
   "source": [
    "# Division\n",
    "3/2"
   ]
  },
  {
   "cell_type": "code",
   "execution_count": 63,
   "metadata": {},
   "outputs": [
    {
     "data": {
      "text/plain": [
       "1"
      ]
     },
     "execution_count": 63,
     "metadata": {},
     "output_type": "execute_result"
    }
   ],
   "source": [
    "# Floor Division\n",
    "7//4"
   ]
  },
  {
   "cell_type": "code",
   "execution_count": 64,
   "metadata": {},
   "outputs": [
    {
     "data": {
      "text/plain": [
       "3"
      ]
     },
     "execution_count": 64,
     "metadata": {},
     "output_type": "execute_result"
    }
   ],
   "source": [
    "# Modulo\n",
    "7%4"
   ]
  },
  {
   "cell_type": "code",
   "execution_count": 65,
   "metadata": {},
   "outputs": [
    {
     "data": {
      "text/plain": [
       "8"
      ]
     },
     "execution_count": 65,
     "metadata": {},
     "output_type": "execute_result"
    }
   ],
   "source": [
    "# Powers\n",
    "2**3"
   ]
  },
  {
   "cell_type": "code",
   "execution_count": 66,
   "metadata": {},
   "outputs": [
    {
     "data": {
      "text/plain": [
       "7"
      ]
     },
     "execution_count": 66,
     "metadata": {},
     "output_type": "execute_result"
    }
   ],
   "source": [
    "# Order of operations\n",
    "2**3-1"
   ]
  },
  {
   "cell_type": "code",
   "execution_count": 67,
   "metadata": {},
   "outputs": [
    {
     "data": {
      "text/plain": [
       "14"
      ]
     },
     "execution_count": 67,
     "metadata": {},
     "output_type": "execute_result"
    }
   ],
   "source": [
    "16 - 2 * 5 // 3 + 1"
   ]
  },
  {
   "cell_type": "code",
   "execution_count": 69,
   "metadata": {},
   "outputs": [
    {
     "data": {
      "text/plain": [
       "768"
      ]
     },
     "execution_count": 69,
     "metadata": {},
     "output_type": "execute_result"
    }
   ],
   "source": [
    "2 ** 2 ** 3 * 3\n",
    "# sectioning"
   ]
  },
  {
   "cell_type": "markdown",
   "metadata": {
    "slideshow": {
     "slide_type": "slide"
    }
   },
   "source": [
    "# Strings"
   ]
  },
  {
   "cell_type": "code",
   "execution_count": null,
   "metadata": {},
   "outputs": [],
   "source": []
  },
  {
   "cell_type": "markdown",
   "metadata": {
    "slideshow": {
     "slide_type": "slide"
    }
   },
   "source": [
    "# Lists"
   ]
  },
  {
   "cell_type": "code",
   "execution_count": null,
   "metadata": {},
   "outputs": [],
   "source": []
  },
  {
   "cell_type": "markdown",
   "metadata": {
    "slideshow": {
     "slide_type": "slide"
    }
   },
   "source": [
    "# Dictionaries\n",
    "\n",
    "A dictionary is a collection which is unordered, changeable and indexed. In Python dictionaries are written with curly brackets, and they have keys and values."
   ]
  },
  {
   "cell_type": "code",
   "execution_count": null,
   "metadata": {},
   "outputs": [],
   "source": [
    "# define a dictionary with {}\n",
    "my_dict = {\"hi\":\"there\"}\n",
    "# insert a new key\n",
    "my_dict[\"key\"] = \"value\"\n",
    "my_dict[\"high\"] = [\"ground\",{\"getting\":\"harder\"}]\n",
    "print(my_dict)\n",
    "\n",
    "# prints keys\n",
    "for x in my_dict.keys():\n",
    "    print(x)\n",
    "\n",
    "# print keys and values\n",
    "for key,value in my_dict.items():\n",
    "    print(key,value)"
   ]
  },
  {
   "cell_type": "markdown",
   "metadata": {
    "slideshow": {
     "slide_type": "slide"
    }
   },
   "source": [
    "## Simple Arithmetic\n",
    "\n",
    "A user inputs their age and the program will tell you what year you will turn 100"
   ]
  },
  {
   "cell_type": "code",
   "execution_count": null,
   "metadata": {},
   "outputs": [],
   "source": [
    "age = int(input(\"Please enter your age\\n\"))\n",
    "print(f\"You will turn 100 on {2018 + age}\")"
   ]
  },
  {
   "cell_type": "markdown",
   "metadata": {
    "slideshow": {
     "slide_type": "slide"
    }
   },
   "source": [
    "# Python Comparison Operators and Statements\n",
    "\n",
    "- Boolean logic\n",
    "- Comparison Operators\n",
    "- Logical statements "
   ]
  },
  {
   "cell_type": "markdown",
   "metadata": {
    "slideshow": {
     "slide_type": "slide"
    }
   },
   "source": [
    "<tr>\n",
    "<th style=\"width:10%\">Operator</th><th style=\"width:45%\">Description</th><th>Example</th>\n",
    "</tr>\n",
    "<tr>\n",
    "<td>==</td>\n",
    "<td>If the values of two operands are equal, then the condition becomes true.</td>\n",
    "<td> (a == b) is not true.</td>\n",
    "</tr>\n",
    "<tr>\n",
    "<td>!=</td>\n",
    "<td>If values of two operands are not equal, then condition becomes true.</td>\n",
    "<td>(a != b) is true</td>\n",
    "</tr>\n",
    "<tr>\n",
    "<td>&gt;</td>\n",
    "<td>If the value of left operand is greater than the value of right operand, then condition becomes true.</td>\n",
    "<td> (a &gt; b) is not true.</td>\n",
    "</tr>\n",
    "<tr>\n",
    "<td>&lt;</td>\n",
    "<td>If the value of left operand is less than the value of right operand, then condition becomes true.</td>\n",
    "<td> (a &lt; b) is true.</td>\n",
    "</tr>\n",
    "<tr>\n",
    "<td>&gt;=</td>\n",
    "<td>If the value of left operand is greater than or equal to the value of right operand, then condition becomes true.</td>\n",
    "<td> (a &gt;= b) is not true. </td>\n",
    "</tr>\n",
    "<tr>\n",
    "<td>&lt;=</td>\n",
    "<td>If the value of left operand is less than or equal to the value of right operand, then condition becomes true.</td>\n",
    "<td> (a &lt;= b) is true. </td>\n",
    "</tr>\n",
    "</table>"
   ]
  },
  {
   "cell_type": "markdown",
   "metadata": {
    "slideshow": {
     "slide_type": "slide"
    }
   },
   "source": [
    "## FizzBuzz\n",
    "\n",
    "Write a program that prints the numbers from 1 to 100. \n",
    "\n",
    "But for multiples of three print “Fizz” instead of the number and for the multiples of five print “Buzz”. \n",
    "\n",
    "For numbers which are multiples of both three and five print “FizzBuzz”.\""
   ]
  },
  {
   "cell_type": "code",
   "execution_count": null,
   "metadata": {},
   "outputs": [],
   "source": [
    "for k in range(1,101):\n",
    "    output = \"\"\n",
    "    if k % 3 == 0:\n",
    "        output = output + \"Fizz\"\n",
    "    if k % 5 == 0:\n",
    "        output = output + \"Buzz\"\n",
    "    print(k,output)"
   ]
  },
  {
   "cell_type": "markdown",
   "metadata": {
    "slideshow": {
     "slide_type": "slide"
    }
   },
   "source": [
    "# Timetable planner"
   ]
  },
  {
   "cell_type": "code",
   "execution_count": null,
   "metadata": {
    "slideshow": {
     "slide_type": "-"
    }
   },
   "outputs": [],
   "source": [
    "# import pickle\n",
    "\n",
    "# # Enter Strings\n",
    "# course1 = input(\"Please enter your first course\")\n",
    "# course2 = input(\"Please enter your second course\")\n",
    "# course3 = input(\"Please enter your third course\")\n",
    "\n",
    "# semester = [course1,course2,course3]\n",
    "\n",
    "# # File I/O\n",
    "# with open(\"dict.pickle\",\"rb\") as pickle_in:\n",
    "#     offerings = pickle.load(pickle_in)\n",
    "    \n",
    "# '''\n",
    "# A course code has a list of lectures and tutorials\n",
    "# User inputs the index to choose a lecture and tutorial\n",
    "# When the user has finished for all classes print the complete timetable\n",
    "# '''\n",
    "# for course in semester:\n",
    "#     course_choices = offerings[course]"
   ]
  },
  {
   "cell_type": "markdown",
   "metadata": {
    "slideshow": {
     "slide_type": "slide"
    }
   },
   "source": [
    "# Extra resources\n",
    "\n",
    "http://www.pythonchallenge.com/\n",
    "\n",
    "https://ocw.mit.edu/courses/electrical-engineering-and-computer-science/6-0001-introduction-to-computer-science-and-programming-in-python-fall-2016/\n",
    "\n",
    "https://www.learnpython.org/\n",
    "\n",
    "https://www.hackerrank.com/domains/python?filters%5Bsubdomains%5D%5B%5D=py-introduction"
   ]
  }
 ],
 "metadata": {
  "celltoolbar": "Slideshow",
  "kernelspec": {
   "display_name": "Python 3",
   "language": "python",
   "name": "python3"
  },
  "language_info": {
   "codemirror_mode": {
    "name": "ipython",
    "version": 3
   },
   "file_extension": ".py",
   "mimetype": "text/x-python",
   "name": "python",
   "nbconvert_exporter": "python",
   "pygments_lexer": "ipython3",
   "version": "3.6.4"
  }
 },
 "nbformat": 4,
 "nbformat_minor": 2
}
